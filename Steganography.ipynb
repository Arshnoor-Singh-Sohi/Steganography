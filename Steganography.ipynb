{
 "cells": [
  {
   "cell_type": "code",
   "execution_count": null,
   "id": "baba289e",
   "metadata": {},
   "outputs": [],
   "source": [
    "# pip install stegano==0.11.1"
   ]
  },
  {
   "cell_type": "code",
   "execution_count": 9,
   "id": "95fe07b9",
   "metadata": {},
   "outputs": [],
   "source": [
    "import tkinter as tk\n",
    "from tkinter import filedialog\n",
    "from tkinter import messagebox\n",
    "from PIL import Image, ImageTk\n",
    "from stegano import lsb"
   ]
  },
  {
   "cell_type": "code",
   "execution_count": 6,
   "id": "b1a1c90f",
   "metadata": {},
   "outputs": [],
   "source": [
    "# function to encode text in the image\n",
    "def encode():\n",
    " # get the image path and text from the text box\n",
    " img_path = filedialog.askopenfilename(title=\"Select Image\", filetypes=((\"PNG files\", \n",
    "\"*.png\"), (\"JPEG files\", \"*.jpg\"), (\"All files\", \"*.*\")))\n",
    " text = text_box.get(\"1.0\", tk.END)\n",
    " # open the image and encode the text in it\n",
    " img = Image.open(img_path)\n",
    " encoded_img = lsb.hide(img, text)\n",
    " # save the encoded image\n",
    " encoded_img.save(\"encoded.png\")\n",
    " # show success message to the user\n",
    " messagebox.showinfo(\"Success\", \"Text encoded successfully!\")\n",
    " text_box.delete(\"1.0\", tk.END)\n",
    " # display the input and encoded images\n",
    " input_img = ImageTk.PhotoImage(img)\n",
    " encoded_img = ImageTk.PhotoImage(encoded_img)\n",
    " input_label.config(image=input_img)\n",
    " input_label.image = input_img\n",
    " encoded_label.config(image=encoded_img)\n",
    " encoded_label.image = encoded_img\n"
   ]
  },
  {
   "cell_type": "code",
   "execution_count": 10,
   "id": "a9dc7709",
   "metadata": {},
   "outputs": [],
   "source": [
    "# function to decode text from the image\n",
    "# function to decode text from the image\n",
    "def decode():\n",
    " # get the image path from the user\n",
    " img_path = filedialog.askopenfilename(title=\"Select Image\", filetypes=((\"PNG files\", \n",
    "\"*.png\"), (\"JPEG files\", \"*.jpg\"), (\"All files\", \"*.*\")))\n",
    " # decode the text from the image\n",
    " decoded_text = lsb.reveal(Image.open(img_path))\n",
    " # show the decoded text in a message box\n",
    " messagebox.showinfo(\"Decoded Text\", decoded_text)\n",
    " # clear the text box\n",
    " text_box.delete(\"1.0\", tk.END)"
   ]
  },
  {
   "cell_type": "code",
   "execution_count": null,
   "id": "b0035390",
   "metadata": {},
   "outputs": [
    {
     "name": "stderr",
     "output_type": "stream",
     "text": [
      "Exception in Tkinter callback\n",
      "Traceback (most recent call last):\n",
      "  File \"C:\\Users\\arshn\\anaconda3\\lib\\tkinter\\__init__.py\", line 1892, in __call__\n",
      "    return self.func(*args)\n",
      "  File \"C:\\Users\\arshn\\AppData\\Local\\Temp\\ipykernel_21868\\1342364587.py\", line 16, in encode\n",
      "    input_img = ImageTk.PhotoImage(img)\n",
      "  File \"C:\\Users\\arshn\\anaconda3\\lib\\site-packages\\PIL\\ImageTk.py\", line 143, in __init__\n",
      "    self.paste(image)\n",
      "  File \"C:\\Users\\arshn\\anaconda3\\lib\\site-packages\\PIL\\ImageTk.py\", line 195, in paste\n",
      "    im.load()\n",
      "  File \"C:\\Users\\arshn\\anaconda3\\lib\\site-packages\\PIL\\ImageFile.py\", line 155, in load\n",
      "    pixel = Image.Image.load(self)\n",
      "  File \"C:\\Users\\arshn\\anaconda3\\lib\\site-packages\\PIL\\Image.py\", line 843, in load\n",
      "    return self.im.pixel_access(self.readonly)\n",
      "  File \"C:\\Users\\arshn\\anaconda3\\lib\\site-packages\\PIL\\_util.py\", line 19, in __getattr__\n",
      "    raise self.ex\n",
      "ValueError: Operation on closed image\n"
     ]
    }
   ],
   "source": [
    "# create a GUI window\n",
    "root = tk.Tk()\n",
    "root.title(\"Text in Image\")\n",
    "# create a text box for entering the text\n",
    "text_box = tk.Text(root, height=10, width=50)\n",
    "text_box.pack(padx=10, pady=10)\n",
    "# create a button to encode text\n",
    "encode_button = tk.Button(root, text=\"Encode Text\", command=encode)\n",
    "encode_button.pack(padx=10, pady=10)\n",
    "# create a button to decode text\n",
    "decode_button = tk.Button(root, text=\"Decode Text\", command=decode)\n",
    "decode_button.pack(padx=10, pady=10)\n",
    "# create labels to display the input and encoded images\n",
    "input_label = tk.Label(root, text=\"Input Image\")\n",
    "input_label.pack(padx=10, pady=10)\n",
    "encoded_label = tk.Label(root, text=\"Encoded Image\")\n",
    "encoded_label.pack(padx=10, pady=10)\n",
    "# run the GUI window\n",
    "root.mainloop()"
   ]
  },
  {
   "cell_type": "code",
   "execution_count": null,
   "id": "119f06cd",
   "metadata": {},
   "outputs": [],
   "source": []
  }
 ],
 "metadata": {
  "kernelspec": {
   "display_name": "Python 3 (ipykernel)",
   "language": "python",
   "name": "python3"
  },
  "language_info": {
   "codemirror_mode": {
    "name": "ipython",
    "version": 3
   },
   "file_extension": ".py",
   "mimetype": "text/x-python",
   "name": "python",
   "nbconvert_exporter": "python",
   "pygments_lexer": "ipython3",
   "version": "3.9.13"
  }
 },
 "nbformat": 4,
 "nbformat_minor": 5
}
